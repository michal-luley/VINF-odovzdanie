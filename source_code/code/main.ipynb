{
 "cells": [
  {
   "cell_type": "code",
   "execution_count": 1,
   "id": "b774a4c6",
   "metadata": {},
   "outputs": [],
   "source": [
    "import os\n",
    "import sys\n",
    "import pickle\n",
    "import pandas as pd"
   ]
  },
  {
   "cell_type": "code",
   "execution_count": 2,
   "id": "29e8c0de",
   "metadata": {},
   "outputs": [],
   "source": [
    "D_RAW_DIR = os.path.realpath(os.path.join(os.path.dirname(\"VINF\"), '..'))\n",
    "\n",
    "main_document_output = os.path.realpath(os.path.join(D_RAW_DIR, 'source_files', 'main_document_output.csv'))\n",
    "\n",
    "symptom_index_file = os.path.realpath(os.path.join(D_RAW_DIR, 'indexes', 'symptoms_index.pickle'))\n",
    "type_index_file = os.path.realpath(os.path.join(D_RAW_DIR, 'indexes', 'type_index.pickle'))\n",
    "country_index_file = os.path.realpath(os.path.join(D_RAW_DIR, 'indexes', 'country_index.pickle'))\n",
    "transmission_index_file = os.path.realpath(os.path.join(D_RAW_DIR, 'indexes', 'transmission_index.pickle'))\n",
    "\n",
    "main_df = pd.read_csv(main_document_output, sep = '\\t')\n",
    "main_df = main_df.fillna(\"\")"
   ]
  },
  {
   "cell_type": "code",
   "execution_count": null,
   "id": "f41ed11e",
   "metadata": {
    "scrolled": true
   },
   "outputs": [
    {
     "name": "stdout",
     "output_type": "stream",
     "text": [
      "\n",
      "Vyber podľa čoho hľadať ochorenie(cislo): \n",
      " 1. typ ochorenia\n",
      " 2. symptomy ochorenia\n",
      " 3. krajina ochorenia\n",
      " 4. sposob prenosu ochorenia\n",
      " 5. ukoncit\n",
      "1\n",
      "virus\n",
      "bacteria\n",
      "------------------\n",
      "Vyber hodnotu: virus\n",
      "Zodpovedajuce ochorenia:\n",
      "\n",
      "         Coxsackievirus\n",
      "         Dengue virus\n",
      "         Ebolavirus\n",
      "         Epstein-Barr virus\n",
      "         Hepatitis C virus\n",
      "         adenovirus\n",
      "         coronavirus\n",
      "         cytomegalovirus\n",
      "         immunodeficiency virus\n",
      "         parvovirus B19\n",
      "         respiratory syncytial virus\n",
      "         rhinovirus\n",
      "         Human T-lymphotropic virus\n",
      "         Influenza A virus\n",
      "         JC polyomavirus\n",
      "         Mumps virus\n",
      "         Norwalk virus\n",
      "         Poliovirus\n",
      "         Rabies virus\n",
      "         Rubella virus\n",
      "         Vaccinia virus\n",
      "         West Nile virus\n",
      "         Yellow fever virus\n",
      "         Syphilis\n",
      "         Smallpox\n"
     ]
    }
   ],
   "source": [
    "while True:\n",
    "    mode = int(input(f\"\\nVyber podľa čoho hľadať ochorenie(cislo): \\n 1. typ ochorenia\\n 2. symptomy ochorenia\\n 3. krajina ochorenia\\n 4. sposob prenosu ochorenia\\n 5. ukoncit\\n\"))\n",
    "    while mode not in [1, 2, 3, 4, 5]:\n",
    "        print(\"Nespravny udaj\\n-------------------\")\n",
    "        mode = input(\"Zadaj cislo (1,2,3,4,5): \") \n",
    "\n",
    "    if mode == 1:\n",
    "        index_file = type_index_file\n",
    "    elif mode == 2:\n",
    "        index_file = symptom_index_file\n",
    "    elif mode == 3:\n",
    "        index_file = country_index_file\n",
    "    elif mode == 4:\n",
    "        index_file = transmission_index_file\n",
    "    else:\n",
    "        print(\"\\n--------Dovidenia---------\\n\")\n",
    "        break\n",
    "\n",
    "\n",
    "    index_dict = {}\n",
    "    with open(index_file, 'rb') as handle:\n",
    "        index_dict = pickle.load(handle)\n",
    "\n",
    "    for item in index_dict.keys():\n",
    "        print(item)\n",
    "\n",
    "    option = input(\"------------------\\nVyber hodnotu: \")\n",
    "    while index_dict.get(option) is None:\n",
    "        print(\"Zly vstup\")\n",
    "        option = input(\"Vyber hodnotu: \")\n",
    "\n",
    "    print(\"Zodpovedajuce ochorenia:\\n\")\n",
    "    for item in index_dict.get(option):\n",
    "        print(f\"         {main_df['Disease'][item]}\")    \n",
    "          \n",
    "\n",
    "\n",
    "\n",
    "\n",
    "\n"
   ]
  }
 ],
 "metadata": {
  "kernelspec": {
   "display_name": "Python 3 (ipykernel)",
   "language": "python",
   "name": "python3"
  },
  "language_info": {
   "codemirror_mode": {
    "name": "ipython",
    "version": 3
   },
   "file_extension": ".py",
   "mimetype": "text/x-python",
   "name": "python",
   "nbconvert_exporter": "python",
   "pygments_lexer": "ipython3",
   "version": "3.9.5"
  }
 },
 "nbformat": 4,
 "nbformat_minor": 5
}
