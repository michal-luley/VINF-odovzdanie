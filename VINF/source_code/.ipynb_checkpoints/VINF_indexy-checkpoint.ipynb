{
 "cells": [
  {
   "cell_type": "code",
   "execution_count": 1,
   "id": "95f73c79",
   "metadata": {},
   "outputs": [],
   "source": [
    "import pickle \n",
    "import os\n",
    "import pandas as pd"
   ]
  },
  {
   "cell_type": "code",
   "execution_count": 2,
   "id": "af18f980",
   "metadata": {},
   "outputs": [],
   "source": [
    "# Setting up home directory\n",
    "D_RAW_DIR = os.path.realpath(os.path.join(os.path.dirname(\"VINF\"), '..'))"
   ]
  },
  {
   "cell_type": "code",
   "execution_count": 3,
   "id": "41839c53",
   "metadata": {},
   "outputs": [],
   "source": [
    "# Specifying the path to files \n",
    "main_document_path = os.path.realpath(os.path.join(D_RAW_DIR, 'source_files', 'main_document.csv'))\n",
    "symptom_index_path = os.path.realpath(os.path.join(D_RAW_DIR, 'indexes', 'symptoms_index.pickle'))\n",
    "type_index_path = os.path.realpath(os.path.join(D_RAW_DIR, 'indexes', 'type_index.pickle'))\n",
    "country_index_path = os.path.realpath(os.path.join(D_RAW_DIR, 'indexes', 'country_index.pickle'))\n",
    "transmission_index_path = os.path.realpath(os.path.join(D_RAW_DIR, 'indexes', 'transmission_index.pickle'))"
   ]
  },
  {
   "cell_type": "code",
   "execution_count": 4,
   "id": "036e880e",
   "metadata": {},
   "outputs": [],
   "source": [
    "# Reading main file\n",
    "main_df = pd.read_csv(main_document_path, sep = '\\t')\n",
    "main_df = main_df.fillna(\"\")"
   ]
  },
  {
   "cell_type": "code",
   "execution_count": 5,
   "id": "87e91bc9",
   "metadata": {},
   "outputs": [],
   "source": [
    "#generate indexes\n",
    "symptom_index = {}\n",
    "type_index = {}\n",
    "country_index = {}\n",
    "transmission_index = {}\n",
    "\n",
    "for symptoms_id in range(main_df['Symptom'].size):\n",
    "    if main_df.at[symptoms_id, 'Symptom'] != \"\":\n",
    "        # Split string with separator ;\n",
    "        symptoms_list = main_df.at[symptoms_id, 'Symptom'].split(\";\")\n",
    "        # Load each item to dictionary with duplication control\n",
    "        for symptom in symptoms_list:\n",
    "            if symptom_index.get(symptom.strip()) is None:\n",
    "                symptom_index[symptom.strip()] = [symptoms_id]                \n",
    "            else:\n",
    "                symptom_index[symptom.strip()].append(symptoms_id)\n",
    "            \n",
    "for types_id in range(main_df['Type'].size):\n",
    "    if main_df.at[types_id, 'Type'] != \"\":\n",
    "        types_list = main_df.at[types_id, 'Type'].split(\";\")\n",
    "        for type_disease in types_list:\n",
    "            if type_index.get(type_disease.strip()) is None:\n",
    "                type_index[type_disease.strip()] = [types_id]                \n",
    "            else:\n",
    "                type_index[type_disease.strip()].append(types_id)\n",
    "                \n",
    "for countries_id in range(main_df['Country'].size):\n",
    "    if main_df.at[countries_id, 'Country'] != \"\":\n",
    "        countries_list = main_df.at[countries_id, 'Country'].split(\";\")\n",
    "        for country in countries_list:\n",
    "            if country_index.get(country.strip()) is None:\n",
    "                country_index[country.strip()] = [countries_id]                \n",
    "            else:\n",
    "                country_index[country.strip()].append(countries_id)\n",
    "                \n",
    "for transmissions_id in range(main_df['Transmission'].size):\n",
    "    if main_df.at[transmissions_id, 'Transmission'] != \"\":\n",
    "        transmissions_list = main_df.at[transmissions_id, 'Transmission'].split(\";\")\n",
    "        for transmission in transmissions_list:\n",
    "            if transmission_index.get(transmission.strip()) is None:\n",
    "                transmission_index[transmission.strip()] = [transmissions_id]                \n",
    "            else:\n",
    "                transmission_index[transmission.strip()].append(transmissions_id)"
   ]
  },
  {
   "cell_type": "code",
   "execution_count": 6,
   "id": "8bac2d12",
   "metadata": {},
   "outputs": [
    {
     "ename": "NameError",
     "evalue": "name 'type_index_path' is not defined",
     "output_type": "error",
     "traceback": [
      "\u001b[1;31m---------------------------------------------------------------------------\u001b[0m",
      "\u001b[1;31mNameError\u001b[0m                                 Traceback (most recent call last)",
      "Cell \u001b[1;32mIn [6], line 5\u001b[0m\n\u001b[0;32m      2\u001b[0m \u001b[38;5;28;01mwith\u001b[39;00m \u001b[38;5;28mopen\u001b[39m(symptom_index_path, \u001b[38;5;124m'\u001b[39m\u001b[38;5;124mwb\u001b[39m\u001b[38;5;124m'\u001b[39m) \u001b[38;5;28;01mas\u001b[39;00m handle:\n\u001b[0;32m      3\u001b[0m     pickle\u001b[38;5;241m.\u001b[39mdump(symptom_index, handle, protocol\u001b[38;5;241m=\u001b[39mpickle\u001b[38;5;241m.\u001b[39mHIGHEST_PROTOCOL)\n\u001b[1;32m----> 5\u001b[0m \u001b[38;5;28;01mwith\u001b[39;00m \u001b[38;5;28mopen\u001b[39m(\u001b[43mtype_index_path\u001b[49m, \u001b[38;5;124m'\u001b[39m\u001b[38;5;124mwb\u001b[39m\u001b[38;5;124m'\u001b[39m) \u001b[38;5;28;01mas\u001b[39;00m handle:\n\u001b[0;32m      6\u001b[0m     pickle\u001b[38;5;241m.\u001b[39mdump(type_index, handle, protocol\u001b[38;5;241m=\u001b[39mpickle\u001b[38;5;241m.\u001b[39mHIGHEST_PROTOCOL)\n\u001b[0;32m      8\u001b[0m \u001b[38;5;28;01mwith\u001b[39;00m \u001b[38;5;28mopen\u001b[39m(country_index_path, \u001b[38;5;124m'\u001b[39m\u001b[38;5;124mwb\u001b[39m\u001b[38;5;124m'\u001b[39m) \u001b[38;5;28;01mas\u001b[39;00m handle:\n",
      "\u001b[1;31mNameError\u001b[0m: name 'type_index_path' is not defined"
     ]
    }
   ],
   "source": [
    "# Writing index dictionaries to pickle file\n",
    "with open(symptom_index_path, 'wb') as handle:\n",
    "    pickle.dump(symptom_index, handle, protocol=pickle.HIGHEST_PROTOCOL)\n",
    "    \n",
    "with open(type_index_path, 'wb') as handle:\n",
    "    pickle.dump(type_index, handle, protocol=pickle.HIGHEST_PROTOCOL)\n",
    "\n",
    "with open(country_index_path, 'wb') as handle:\n",
    "    pickle.dump(country_index, handle, protocol=pickle.HIGHEST_PROTOCOL)\n",
    "\n",
    "with open(transmission_index_path, 'wb') as handle:\n",
    "    pickle.dump(transmission_index, handle, protocol=pickle.HIGHEST_PROTOCOL)"
   ]
  }
 ],
 "metadata": {
  "kernelspec": {
   "display_name": "vinfenv_kernel",
   "language": "python",
   "name": "vinfenv_kernel"
  },
  "language_info": {
   "codemirror_mode": {
    "name": "ipython",
    "version": 3
   },
   "file_extension": ".py",
   "mimetype": "text/x-python",
   "name": "python",
   "nbconvert_exporter": "python",
   "pygments_lexer": "ipython3",
   "version": "3.8.9"
  }
 },
 "nbformat": 4,
 "nbformat_minor": 5
}
