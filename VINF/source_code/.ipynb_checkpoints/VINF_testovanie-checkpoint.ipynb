{
 "cells": [
  {
   "cell_type": "markdown",
   "id": "9248845e",
   "metadata": {},
   "source": [
    "# Testing"
   ]
  },
  {
   "cell_type": "code",
   "execution_count": 1,
   "id": "8ca7cfb5",
   "metadata": {},
   "outputs": [],
   "source": [
    "import os\n",
    "import sys\n",
    "import re\n",
    "import pandas as pd\n",
    "import pickle"
   ]
  },
  {
   "cell_type": "code",
   "execution_count": 2,
   "id": "1a11b1f1",
   "metadata": {},
   "outputs": [
    {
     "name": "stdout",
     "output_type": "stream",
     "text": [
      "Test succeeded\n"
     ]
    }
   ],
   "source": [
    "# Test1 Processing of data to dictionary\n",
    "\n",
    "\n",
    "D_RAW_DIR = os.path.realpath(os.path.join(os.path.dirname(\"VINF\"), '..'))\n",
    "symptom_index_path = os.path.realpath(os.path.join(D_RAW_DIR, 'source_code', 'test_tmp', 'symptoms_index_test.pickle'))\n",
    "main_document_test_path = os.path.realpath(os.path.join(D_RAW_DIR, 'source_code', 'test_tmp', 'main_document_test.csv'))\n",
    "main_df = pd.read_csv(main_document_test_path, sep = '\\t')\n",
    "main_df = main_df.fillna(\"\")\n",
    "\n",
    "symptom_index = {}\n",
    "\n",
    "for symptoms_id in range(main_df['Symptom'].size):\n",
    "    if main_df.at[symptoms_id, 'Symptom'] != \"\":\n",
    "        # Split string with separator ;\n",
    "        symptoms_list = main_df.at[symptoms_id, 'Symptom'].split(\";\")\n",
    "        # Load each item to dictionary with duplication control\n",
    "        for symptom in symptoms_list:\n",
    "            if symptom_index.get(symptom.strip()) is None:\n",
    "                symptom_index[symptom.strip()] = [symptoms_id]                \n",
    "            else:\n",
    "                symptom_index[symptom.strip()].append(symptoms_id)\n",
    "                \n",
    "\n",
    "actual_dictionary = symptom_index\n",
    "expected_dictionary = {'cough': [0], 'fatigue': [0], 'headache': [0, 1], 'fever': [0, 1], 'vomiting': [1]}\n",
    "\n",
    "try:\n",
    "    assert actual_dictionary == expected_dictionary\n",
    "    print(\"Test succeeded\")\n",
    "except(AssertionError):\n",
    "    print(\"Test failed\")"
   ]
  },
  {
   "cell_type": "code",
   "execution_count": 3,
   "id": "97cd4c13",
   "metadata": {},
   "outputs": [
    {
     "name": "stdout",
     "output_type": "stream",
     "text": [
      "Test succeeded\n"
     ]
    }
   ],
   "source": [
    "# Test2 Writing and reading index - testing main file\n",
    "symptom_index_path = os.path.realpath(os.path.join(D_RAW_DIR, 'source_code', 'test_tmp', 'symptoms_index_test2.pickle'))\n",
    "\n",
    "test_dictionary = {'cough': [0], 'fatigue': [0], 'headache': [0, 1], 'fever': [0, 1], 'vomiting': [1]}\n",
    "with open(symptom_index_path, 'wb') as handle:\n",
    "    pickle.dump(symptom_index, handle, protocol=pickle.HIGHEST_PROTOCOL)\n",
    "\n",
    "index_dict = {}\n",
    "with open(symptom_index_path, 'rb') as handle:\n",
    "    index_dict = pickle.load(handle)\n",
    "\n",
    "actual_index_symptom_keys = list(index_dict.keys())\n",
    "expected_index_symptom_keys = ['cough', 'fatigue', 'headache', 'fever', 'vomiting']\n",
    "\n",
    "try:\n",
    "    assert actual_index_symptom_keys == expected_index_symptom_keys\n",
    "    print(\"Test succeeded\")\n",
    "except(AssertionError):\n",
    "    print(\"Test failed\")"
   ]
  },
  {
   "cell_type": "code",
   "execution_count": 4,
   "id": "2b037157",
   "metadata": {},
   "outputs": [
    {
     "name": "stdout",
     "output_type": "stream",
     "text": [
      "[Row(disease='coronavirus', type='virus', symptoms=['fever', 'fatigue', 'cough', 'headache'], countries=['china'], transmissions=None)]\n",
      "[Row(disease='coronavirus', type='virus', symptoms=['fever', 'fatigue', 'cough', 'headache'], countries=['china'], transmissions=None)]\n",
      "Test succeeded\n"
     ]
    }
   ],
   "source": [
    "# Test3 testing text searching and processing of spark dataframe\n",
    "# Setting up spark session\n",
    "from pyspark.sql import SparkSession\n",
    "from pyspark.sql.types import StringType, StructType, StructField, ArrayType\n",
    "\n",
    "os.environ['PYSPARK_PYTHON'] = sys.executable\n",
    "os.environ['PYSPARK_DRIVER_PYTHON'] = sys.executable\n",
    "\n",
    "spark = SparkSession \\\n",
    "    .builder \\\n",
    "    .appName(\"VINF_disease_searching_luley_michal\") \\\n",
    "    .master(\"local[*]\") \\\n",
    "    .getOrCreate()\n",
    "\n",
    "sdf_values = list([[\"Coronavirus\", \"Coronavirus is dangerous virus that is spread in China and has symptom like cough, fatigue, headache and fever.\"]])\n",
    "dfs_valuable = spark.createDataFrame(data=sdf_values, schema=StructType([StructField(\"title\", StringType(), True),\n",
    "                                                              StructField(\"_VALUE\", StringType(), True)]))\n",
    "\n",
    "sdf_values_expected = list([[\"coronavirus\", \"virus\", [\"fever\", \"fatigue\", \"cough\", \"headache\"], [\"china\"], None]])\n",
    "sdf_expected = spark.createDataFrame(data=sdf_values_expected, schema=StructType([StructField(\"disease\", StringType(), True),\n",
    "                                                            StructField(\"type\", StringType(), True),\n",
    "                                                            StructField(\"symptoms\", ArrayType(StringType()), True),\n",
    "                                                            StructField(\"countries\", ArrayType(StringType()), True),\n",
    "                                                            StructField(\"transmissions\", ArrayType(StringType()), True),]))\n",
    "\n",
    "# Defining regex patterns to be used for regex searching\n",
    "diseases_pattern = re.compile(('|'.join([\"Coronavirus\", \"Dengue fever\"])).replace(\"(\", \"\\(\").replace(\")\", \"\\)\"), re.IGNORECASE)\n",
    "diseases_type_pattern = re.compile('bacteria|virus|viral', re.IGNORECASE)\n",
    "symptoms_pattern = re.compile('|'.join([\"cough\", \"fatigue\", \"headache\", \"fever\"]), re.IGNORECASE)\n",
    "countries_pattern = re.compile('|'.join(['China', \"India\"]), re.IGNORECASE)\n",
    "transmission_pattern = re.compile('|'.join([\"moscito, blood\"]), re.IGNORECASE)\n",
    "\n",
    "from pyspark.sql.types import StringType, ArrayType\n",
    "from pyspark.sql.functions import udf\n",
    "\n",
    "# Defining udf for finding matches between page and item(disease, symptom, transmission, country)\n",
    "def get_matching_string(line, regex):\n",
    "    matches = list(set([str(x).lower() for x in re.findall(regex, line)]))\n",
    "    return matches if matches else None\n",
    "\n",
    "# Defining udf for finding matches between page and disease type\n",
    "def get_matching_string_type(line, regex):\n",
    "    disease_types = re.findall(regex, line)    \n",
    "    match = max([x.lower().replace(\"viral\", \"virus\") for x in disease_types], key=disease_types.count) \n",
    "    return match if match else None\n",
    "\n",
    "# Declaring UDF functions\n",
    "from pyspark.sql.functions import udf\n",
    "udf_func_type = udf(lambda line :get_matching_string_type(line, diseases_type_pattern), StringType())\n",
    "udf_func_diseases = udf(lambda line :get_matching_string(line, diseases_pattern), ArrayType(StringType()))\n",
    "udf_func_symptoms = udf(lambda line :get_matching_string(line, symptoms_pattern), ArrayType(StringType()))\n",
    "udf_func_countries = udf(lambda line :get_matching_string(line, countries_pattern), ArrayType(StringType()))\n",
    "udf_func_transmissions = udf(lambda line :get_matching_string(line, transmission_pattern), ArrayType(StringType()))\n",
    "\n",
    "# Creating collumns disease, type, symptoms, countries, transmissions and dropping yet \n",
    "# unnecessary columns _VALUE and title\n",
    "from pyspark.sql.functions import col, regexp_extract\n",
    "dfs_final = dfs_valuable \\\n",
    "                .withColumn(\"disease\", udf_func_diseases(col('title'))[0]) \\\n",
    "                .na.drop(subset=[\"disease\"]) \\\n",
    "                .withColumn(\"type\", udf_func_type('_VALUE')) \\\n",
    "                .withColumn(\"symptoms\", udf_func_symptoms(col('_VALUE'))) \\\n",
    "                .withColumn(\"countries\", udf_func_countries(col('_VALUE'))) \\\n",
    "                .withColumn(\"transmissions\", udf_func_transmissions(col('_VALUE'))) \\\n",
    "                .drop(col(\"_VALUE\")) \\\n",
    "                .drop(col(\"title\"))\n",
    "\n",
    "print(dfs_final.head(5))\n",
    "print(sdf_expected.head(5))\n",
    "\n",
    "try:\n",
    "    assert dfs_final.rdd.collect() == sdf_expected.rdd.collect()\n",
    "    print(\"Test succeeded\")\n",
    "except(AssertionError):\n",
    "    print(\"Test failed\")\n",
    "\n"
   ]
  }
 ],
 "metadata": {
  "kernelspec": {
   "display_name": "vinfenv_kernel",
   "language": "python",
   "name": "vinfenv_kernel"
  },
  "language_info": {
   "codemirror_mode": {
    "name": "ipython",
    "version": 3
   },
   "file_extension": ".py",
   "mimetype": "text/x-python",
   "name": "python",
   "nbconvert_exporter": "python",
   "pygments_lexer": "ipython3",
   "version": "3.8.9"
  }
 },
 "nbformat": 4,
 "nbformat_minor": 5
}
